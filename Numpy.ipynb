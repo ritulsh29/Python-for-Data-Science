{
  "nbformat": 4,
  "nbformat_minor": 0,
  "metadata": {
    "colab": {
      "provenance": [],
      "authorship_tag": "ABX9TyN7zZ66dN/mI3jez0RHlFtK",
      "include_colab_link": true
    },
    "kernelspec": {
      "name": "python3",
      "display_name": "Python 3"
    },
    "language_info": {
      "name": "python"
    }
  },
  "cells": [
    {
      "cell_type": "markdown",
      "metadata": {
        "id": "view-in-github",
        "colab_type": "text"
      },
      "source": [
        "<a href=\"https://colab.research.google.com/github/ritulsh29/Python-for-Data-Science/blob/main/Numpy.ipynb\" target=\"_parent\"><img src=\"https://colab.research.google.com/assets/colab-badge.svg\" alt=\"Open In Colab\"/></a>"
      ]
    },
    {
      "cell_type": "code",
      "execution_count": null,
      "metadata": {
        "id": "13oTan36wV9J"
      },
      "outputs": [],
      "source": [
        "#Numpy=Numerical Python"
      ]
    },
    {
      "cell_type": "code",
      "source": [
        "#Single-dimensional Array\n",
        "import numpy as np\n",
        "n1=np.array([10,20,30,40])\n",
        "n1"
      ],
      "metadata": {
        "colab": {
          "base_uri": "https://localhost:8080/"
        },
        "id": "SXYhNpRQwlSm",
        "outputId": "8cf9cd71-9995-44b4-b1e4-790d60199882"
      },
      "execution_count": null,
      "outputs": [
        {
          "output_type": "execute_result",
          "data": {
            "text/plain": [
              "array([10, 20, 30, 40])"
            ]
          },
          "metadata": {},
          "execution_count": 1
        }
      ]
    },
    {
      "cell_type": "code",
      "source": [
        "#Multidimensional array\n",
        "n2=np.array([[10,20,30,40],[40,30,20,10]])\n",
        "n2"
      ],
      "metadata": {
        "colab": {
          "base_uri": "https://localhost:8080/"
        },
        "id": "YEFSP_zewzmJ",
        "outputId": "6d508f75-199b-4154-8a75-5032108e274c"
      },
      "execution_count": null,
      "outputs": [
        {
          "output_type": "execute_result",
          "data": {
            "text/plain": [
              "array([[10, 20, 30, 40],\n",
              "       [40, 30, 20, 10]])"
            ]
          },
          "metadata": {},
          "execution_count": 2
        }
      ]
    },
    {
      "cell_type": "code",
      "source": [
        "n1=np.zeros((1,2))\n",
        "n1"
      ],
      "metadata": {
        "colab": {
          "base_uri": "https://localhost:8080/"
        },
        "id": "7cvzjjAGw__b",
        "outputId": "002483aa-c1b4-4777-d533-79fe99350cc9"
      },
      "execution_count": null,
      "outputs": [
        {
          "output_type": "execute_result",
          "data": {
            "text/plain": [
              "array([[0., 0.]])"
            ]
          },
          "metadata": {},
          "execution_count": 3
        }
      ]
    },
    {
      "cell_type": "code",
      "source": [
        "n1=np.zeros((5,5))\n",
        "n1"
      ],
      "metadata": {
        "colab": {
          "base_uri": "https://localhost:8080/"
        },
        "id": "o4907TObxABe",
        "outputId": "504dbe26-2f8f-4d84-9938-3c86e70f7a27"
      },
      "execution_count": null,
      "outputs": [
        {
          "output_type": "execute_result",
          "data": {
            "text/plain": [
              "array([[0., 0., 0., 0., 0.],\n",
              "       [0., 0., 0., 0., 0.],\n",
              "       [0., 0., 0., 0., 0.],\n",
              "       [0., 0., 0., 0., 0.],\n",
              "       [0., 0., 0., 0., 0.]])"
            ]
          },
          "metadata": {},
          "execution_count": 5
        }
      ]
    },
    {
      "cell_type": "code",
      "source": [
        "n1=np.full((2,2),10)\n",
        "n1"
      ],
      "metadata": {
        "colab": {
          "base_uri": "https://localhost:8080/"
        },
        "id": "nxCQSrhJxTnR",
        "outputId": "e76f2904-059f-447d-e1be-3c419b10ad2e"
      },
      "execution_count": null,
      "outputs": [
        {
          "output_type": "execute_result",
          "data": {
            "text/plain": [
              "array([[10, 10],\n",
              "       [10, 10]])"
            ]
          },
          "metadata": {},
          "execution_count": 6
        }
      ]
    },
    {
      "cell_type": "code",
      "source": [
        "n1=np.arange(10,20)\n",
        "n1"
      ],
      "metadata": {
        "colab": {
          "base_uri": "https://localhost:8080/"
        },
        "id": "9q6rqBxPxTpr",
        "outputId": "910b9cee-44f9-45e6-b67e-a989fa5c988f"
      },
      "execution_count": null,
      "outputs": [
        {
          "output_type": "execute_result",
          "data": {
            "text/plain": [
              "array([10, 11, 12, 13, 14, 15, 16, 17, 18, 19])"
            ]
          },
          "metadata": {},
          "execution_count": 7
        }
      ]
    },
    {
      "cell_type": "code",
      "source": [
        "n1=np.arange(10,50,5) #10 to 49 with step of 5."
      ],
      "metadata": {
        "id": "Fvm1tGVrxe3T"
      },
      "execution_count": null,
      "outputs": []
    },
    {
      "cell_type": "code",
      "source": [
        "n1=np.random.randint(1,100,5)\n",
        "n1"
      ],
      "metadata": {
        "colab": {
          "base_uri": "https://localhost:8080/"
        },
        "id": "NvBPQ4snxe6o",
        "outputId": "301f2324-3751-47db-fe15-e62ce787e422"
      },
      "execution_count": null,
      "outputs": [
        {
          "output_type": "execute_result",
          "data": {
            "text/plain": [
              "array([32, 90, 20, 85, 62])"
            ]
          },
          "metadata": {},
          "execution_count": 9
        }
      ]
    },
    {
      "cell_type": "code",
      "source": [
        "n1=np.array([[1,2,3],[4,5,6]])\n",
        "n1.shape"
      ],
      "metadata": {
        "colab": {
          "base_uri": "https://localhost:8080/"
        },
        "id": "LbSCzJRGxTsT",
        "outputId": "b475d8db-f450-4561-abfd-eaf32c4fefab"
      },
      "execution_count": null,
      "outputs": [
        {
          "output_type": "execute_result",
          "data": {
            "text/plain": [
              "(2, 3)"
            ]
          },
          "metadata": {},
          "execution_count": 11
        }
      ]
    },
    {
      "cell_type": "code",
      "source": [
        "n1.shape=(3,2)\n",
        "n1.shape"
      ],
      "metadata": {
        "colab": {
          "base_uri": "https://localhost:8080/"
        },
        "id": "s749c4yyxTvw",
        "outputId": "9e18ad4b-7853-4a34-cf43-a95ccf34e938"
      },
      "execution_count": null,
      "outputs": [
        {
          "output_type": "execute_result",
          "data": {
            "text/plain": [
              "(3, 2)"
            ]
          },
          "metadata": {},
          "execution_count": 12
        }
      ]
    },
    {
      "cell_type": "code",
      "source": [
        "l1=[10,20,30]\n",
        "l2=[40,50,60]\n",
        "n1=np.array(l1)\n",
        "n2=np.array(l2)\n",
        "np.vstack((n1,n2))"
      ],
      "metadata": {
        "colab": {
          "base_uri": "https://localhost:8080/"
        },
        "id": "TXYpKNN9xAEj",
        "outputId": "48f5c094-632a-44e8-9454-6d5edad46ad6"
      },
      "execution_count": null,
      "outputs": [
        {
          "output_type": "execute_result",
          "data": {
            "text/plain": [
              "array([[10, 20, 30],\n",
              "       [40, 50, 60]])"
            ]
          },
          "metadata": {},
          "execution_count": 14
        }
      ]
    },
    {
      "cell_type": "code",
      "source": [
        "l1=[10,20,30]\n",
        "l2=[40,50,60]\n",
        "n1=np.array(l1)\n",
        "n2=np.array(l2)\n",
        "np.hstack((n1,n2))"
      ],
      "metadata": {
        "id": "pISRI6m_zP9G",
        "colab": {
          "base_uri": "https://localhost:8080/"
        },
        "outputId": "d5a6c114-d745-46ff-bff7-d04aadfd75ad"
      },
      "execution_count": null,
      "outputs": [
        {
          "output_type": "execute_result",
          "data": {
            "text/plain": [
              "array([10, 20, 30, 40, 50, 60])"
            ]
          },
          "metadata": {},
          "execution_count": 16
        }
      ]
    },
    {
      "cell_type": "code",
      "source": [
        "l1=[10,20,30]\n",
        "l2=[40,50,60]\n",
        "n1=np.array(l1)\n",
        "n2=np.array(l2)\n",
        "np.column_stack((n1,n2))"
      ],
      "metadata": {
        "colab": {
          "base_uri": "https://localhost:8080/"
        },
        "id": "WIbRTtpwz7Dg",
        "outputId": "2aa857b3-a376-46db-9203-aa50672da77e"
      },
      "execution_count": null,
      "outputs": [
        {
          "output_type": "execute_result",
          "data": {
            "text/plain": [
              "array([[10, 40],\n",
              "       [20, 50],\n",
              "       [30, 60]])"
            ]
          },
          "metadata": {},
          "execution_count": 17
        }
      ]
    },
    {
      "cell_type": "code",
      "source": [
        "l1=[10,20,30,40]\n",
        "l2=[10,20,60]\n",
        "n1=np.array(l1)\n",
        "n2=np.array(l2)\n",
        "np.setdiff1d(n1,n2)"
      ],
      "metadata": {
        "colab": {
          "base_uri": "https://localhost:8080/"
        },
        "outputId": "2703c270-2eae-4fa7-c60a-fb097cc5b049",
        "id": "1kDFUZhJ0HaU"
      },
      "execution_count": null,
      "outputs": [
        {
          "output_type": "execute_result",
          "data": {
            "text/plain": [
              "array([30, 40])"
            ]
          },
          "metadata": {},
          "execution_count": 23
        }
      ]
    },
    {
      "cell_type": "code",
      "source": [
        "l1=[10,20,30,40]\n",
        "l2=[10,20,60]\n",
        "n1=np.array(l1)\n",
        "n2=np.array(l2)\n",
        "np.setdiff1d(n2,n1)"
      ],
      "metadata": {
        "colab": {
          "base_uri": "https://localhost:8080/"
        },
        "id": "3cZaQtj20iCk",
        "outputId": "1fb610d0-68d3-4afc-b0d6-c69f4af2b5e2"
      },
      "execution_count": null,
      "outputs": [
        {
          "output_type": "execute_result",
          "data": {
            "text/plain": [
              "array([60])"
            ]
          },
          "metadata": {},
          "execution_count": 22
        }
      ]
    },
    {
      "cell_type": "code",
      "source": [
        "l1=[10,20,30]\n",
        "l2=[10,20,60]\n",
        "n1=np.array(l1)\n",
        "n2=np.array(l2)\n",
        "np.intersect1d(n1,n2)"
      ],
      "metadata": {
        "colab": {
          "base_uri": "https://localhost:8080/"
        },
        "outputId": "f329617c-8290-48d3-c401-18c5924670c5",
        "id": "zEQzgUQ-0F0Y"
      },
      "execution_count": null,
      "outputs": [
        {
          "output_type": "execute_result",
          "data": {
            "text/plain": [
              "array([10, 20])"
            ]
          },
          "metadata": {},
          "execution_count": 18
        }
      ]
    },
    {
      "cell_type": "code",
      "source": [
        "l1=[10,20,30]\n",
        "l2=[10,20,60]\n",
        "n1=np.array(l1)\n",
        "n2=np.array(l2)\n",
        "np.sum([n1,n2])"
      ],
      "metadata": {
        "colab": {
          "base_uri": "https://localhost:8080/"
        },
        "id": "FZKFOW6Gz_mO",
        "outputId": "28d544d9-8a98-4ba0-8839-e4742a8615f3"
      },
      "execution_count": null,
      "outputs": [
        {
          "output_type": "execute_result",
          "data": {
            "text/plain": [
              "150"
            ]
          },
          "metadata": {},
          "execution_count": 24
        }
      ]
    },
    {
      "cell_type": "code",
      "source": [
        "l1=[10,20,30]\n",
        "l2=[10,20,60]\n",
        "n1=np.array(l1)\n",
        "n2=np.array(l2)\n",
        "np.sum([n1,n2], axis=0) #adds columns."
      ],
      "metadata": {
        "colab": {
          "base_uri": "https://localhost:8080/"
        },
        "id": "46Rkzw5xz_oo",
        "outputId": "a0ff08e9-a767-4c3a-e7f5-d4c61f5a714b"
      },
      "execution_count": null,
      "outputs": [
        {
          "output_type": "execute_result",
          "data": {
            "text/plain": [
              "array([20, 40, 90])"
            ]
          },
          "metadata": {},
          "execution_count": 25
        }
      ]
    },
    {
      "cell_type": "code",
      "source": [
        "l1=[10,20,30]\n",
        "l2=[10,20,60]\n",
        "n1=np.array(l1)\n",
        "n2=np.array(l2)\n",
        "np.sum([n1,n2], axis=1)"
      ],
      "metadata": {
        "colab": {
          "base_uri": "https://localhost:8080/"
        },
        "id": "vuthlF0wz_rQ",
        "outputId": "87285e2a-8e84-4df4-cc04-93fffe598f2c"
      },
      "execution_count": null,
      "outputs": [
        {
          "output_type": "execute_result",
          "data": {
            "text/plain": [
              "array([60, 90])"
            ]
          },
          "metadata": {},
          "execution_count": 26
        }
      ]
    },
    {
      "cell_type": "code",
      "source": [
        "l1=[10,20,30]\n",
        "l2=[10,20,60]\n",
        "n1=np.array(l1)\n",
        "n2=np.array(l2)\n",
        "n1=n1+1\n",
        "n1"
      ],
      "metadata": {
        "colab": {
          "base_uri": "https://localhost:8080/"
        },
        "id": "tY4-nCpmz_uh",
        "outputId": "e34720f8-73b4-425e-b3a7-303a5e3ac7af"
      },
      "execution_count": null,
      "outputs": [
        {
          "output_type": "execute_result",
          "data": {
            "text/plain": [
              "array([11, 21, 31])"
            ]
          },
          "metadata": {},
          "execution_count": 28
        }
      ]
    },
    {
      "cell_type": "code",
      "source": [
        "l1=[10,20,30]\n",
        "l2=[10,20,60]\n",
        "n1=np.array(l1)\n",
        "n2=np.array(l2)\n",
        "n1=n1-1\n",
        "n1"
      ],
      "metadata": {
        "colab": {
          "base_uri": "https://localhost:8080/"
        },
        "id": "75fgRrme1H41",
        "outputId": "b0bf3fff-9664-4878-cbce-f79701da4702"
      },
      "execution_count": null,
      "outputs": [
        {
          "output_type": "execute_result",
          "data": {
            "text/plain": [
              "array([ 9, 19, 29])"
            ]
          },
          "metadata": {},
          "execution_count": 29
        }
      ]
    },
    {
      "cell_type": "code",
      "source": [
        "l1=[10,20,30]\n",
        "l2=[10,20,60]\n",
        "n1=np.array(l1)\n",
        "n2=np.array(l2)\n",
        "n1=n1*2\n",
        "n1"
      ],
      "metadata": {
        "colab": {
          "base_uri": "https://localhost:8080/"
        },
        "id": "PkLO_Ukk1H65",
        "outputId": "6a798029-534a-4d8c-c54d-f8f38f2fc3cd"
      },
      "execution_count": null,
      "outputs": [
        {
          "output_type": "execute_result",
          "data": {
            "text/plain": [
              "array([20, 40, 60])"
            ]
          },
          "metadata": {},
          "execution_count": 31
        }
      ]
    },
    {
      "cell_type": "code",
      "source": [
        "l1=[10,20,30]\n",
        "l2=[10,20,60]\n",
        "n1=np.array(l1)\n",
        "n2=np.array(l2)\n",
        "n1=n1/2\n",
        "n1"
      ],
      "metadata": {
        "colab": {
          "base_uri": "https://localhost:8080/"
        },
        "id": "pmZnR51Q1H9b",
        "outputId": "bac1ac0a-148d-4296-ce43-721943f6e487"
      },
      "execution_count": null,
      "outputs": [
        {
          "output_type": "execute_result",
          "data": {
            "text/plain": [
              "array([ 5., 10., 15.])"
            ]
          },
          "metadata": {},
          "execution_count": 33
        }
      ]
    },
    {
      "cell_type": "code",
      "source": [
        "l1=[10,20,30]\n",
        "l2=[10,20,60]\n",
        "n1=np.array(l1)\n",
        "n2=np.array(l2)\n",
        "n1=n1%2\n",
        "n1"
      ],
      "metadata": {
        "colab": {
          "base_uri": "https://localhost:8080/"
        },
        "id": "1XnacC-71IAm",
        "outputId": "2aedbf6b-3539-4c58-cb29-bd2bdefc0a6e"
      },
      "execution_count": null,
      "outputs": [
        {
          "output_type": "execute_result",
          "data": {
            "text/plain": [
              "array([0, 0, 0])"
            ]
          },
          "metadata": {},
          "execution_count": 34
        }
      ]
    },
    {
      "cell_type": "code",
      "source": [
        "l1=[10,20,30]\n",
        "n1=np.array(l1)\n",
        "np.mean(n1)"
      ],
      "metadata": {
        "colab": {
          "base_uri": "https://localhost:8080/"
        },
        "id": "ACT1DqLVz7N0",
        "outputId": "656cfab2-6d69-424a-fb59-ac9ddd481337"
      },
      "execution_count": null,
      "outputs": [
        {
          "output_type": "execute_result",
          "data": {
            "text/plain": [
              "20.0"
            ]
          },
          "metadata": {},
          "execution_count": 35
        }
      ]
    },
    {
      "cell_type": "code",
      "source": [
        "l1=[10,20,30,24]\n",
        "n1=np.array(l1)\n",
        "np.median(n1)"
      ],
      "metadata": {
        "colab": {
          "base_uri": "https://localhost:8080/"
        },
        "id": "BvMUeSbm1a5H",
        "outputId": "68eacd73-21a5-4f60-f32a-d6e15d7d9aa6"
      },
      "execution_count": null,
      "outputs": [
        {
          "output_type": "execute_result",
          "data": {
            "text/plain": [
              "22.0"
            ]
          },
          "metadata": {},
          "execution_count": 37
        }
      ]
    },
    {
      "cell_type": "code",
      "source": [
        "l1=[10,20,30]\n",
        "n1=np.array(l1)\n",
        "np.std(n1)"
      ],
      "metadata": {
        "colab": {
          "base_uri": "https://localhost:8080/"
        },
        "id": "qQ18LQB-1a7Z",
        "outputId": "13a184ef-58ce-4c9c-8b46-2450b8e81852"
      },
      "execution_count": null,
      "outputs": [
        {
          "output_type": "execute_result",
          "data": {
            "text/plain": [
              "8.16496580927726"
            ]
          },
          "metadata": {},
          "execution_count": 39
        }
      ]
    },
    {
      "cell_type": "code",
      "source": [
        "l1=[10,20,30]\n",
        "n1=np.array(l1)\n",
        "np.save('my_numpy',n1)"
      ],
      "metadata": {
        "id": "ti83E80f1a98"
      },
      "execution_count": null,
      "outputs": []
    },
    {
      "cell_type": "code",
      "source": [
        "n2=np.load('my_numpy.npy')\n",
        "n2"
      ],
      "metadata": {
        "colab": {
          "base_uri": "https://localhost:8080/"
        },
        "id": "dNTmowNN1bAM",
        "outputId": "d75d445b-9d2f-4bec-f66c-702730024853"
      },
      "execution_count": null,
      "outputs": [
        {
          "output_type": "execute_result",
          "data": {
            "text/plain": [
              "array([10, 20, 30])"
            ]
          },
          "metadata": {},
          "execution_count": 41
        }
      ]
    },
    {
      "cell_type": "code",
      "source": [],
      "metadata": {
        "id": "Y1sAs24L1bDf"
      },
      "execution_count": null,
      "outputs": []
    }
  ]
}